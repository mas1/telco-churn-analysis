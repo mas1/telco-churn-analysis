{
 "cells": [
  {
   "cell_type": "markdown",
   "metadata": {},
   "source": [
    "## Telco Churn Analysis Proposal"
   ]
  },
  {
   "cell_type": "markdown",
   "metadata": {},
   "source": [
    "In this project we are analyzing customer data from a telecommunications company 'Telco' in order to determine which indicators lead to higher rates of customer churn. Customer churn is factor of utmost importance to nearly all businesses. Through our analysis we will be able to focus on the subgroups of customers that are have historically been most likely to churn. The dataset can be found at https://www.kaggle.com/blastchar/telco-customer-churn, or in this project's GitHub repo, https://github.com/mas1/telco-churn-analysis."
   ]
  },
  {
   "cell_type": "markdown",
   "metadata": {},
   "source": [
    "The focus of our analysis will be based on gender, senior citizen status, partner status, tenure, and size of monthly payment. Are there significant differences within and between these groups when it comes to churn rate? ANOVA tests will be performed to see if there are in fact significant differences, while other inferential statistics will be used to verify and reinforce our findings."
   ]
  },
  {
   "cell_type": "markdown",
   "metadata": {},
   "source": [
    "The findings of our analysis will be valuable to both the marketing teams and upper management of telecommunication companies. The marketing team will be able to implement features that target the specific groups who are at a higher risk of churning, preemptively mitigating the loss of profits. The upper management will be able to predict churn rates based on the data of their customers as well as put into motion longer term strategic policies to lower the churn rate."
   ]
  },
  {
   "cell_type": "code",
   "execution_count": null,
   "metadata": {},
   "outputs": [],
   "source": []
  }
 ],
 "metadata": {
  "kernelspec": {
   "display_name": "Python 3",
   "language": "python",
   "name": "python3"
  },
  "language_info": {
   "codemirror_mode": {
    "name": "ipython",
    "version": 3
   },
   "file_extension": ".py",
   "mimetype": "text/x-python",
   "name": "python",
   "nbconvert_exporter": "python",
   "pygments_lexer": "ipython3",
   "version": "3.7.6"
  }
 },
 "nbformat": 4,
 "nbformat_minor": 4
}
