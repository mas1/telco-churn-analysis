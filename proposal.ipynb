{
 "cells": [
  {
   "cell_type": "markdown",
   "metadata": {},
   "source": [
    "## Telco Churn Analysis Proposal"
   ]
  },
  {
   "cell_type": "markdown",
   "metadata": {},
   "source": [
    "Data\n",
    "Student has clearly described what the dataset is and why it's interesting.\n",
    "Student has provided a link to the dataset.\n",
    "\n",
    "\n",
    "Research design\n",
    "Proposal has a clear research or business question.\n",
    "Student identifies at least one hypothesis that they plan to test.\n",
    "Student states how they will test the hypothesis using their data source.\n",
    "\n",
    "\n",
    "Audience\n",
    "Proposal clearly outlines the user or stakeholder who this research will be valuable for.\n",
    "Proposal identifies why the audience will benefit from the research's findings."
   ]
  },
  {
   "cell_type": "markdown",
   "metadata": {},
   "source": [
    "In this project we are analyzing customer data from a telecommunications company 'Telco' in order to determine which factors lead to higher rates of customer churn. The data can be found at https://www.kaggle.com/blastchar/telco-customer-churn, or in the GitHub repo "
   ]
  },
  {
   "cell_type": "code",
   "execution_count": null,
   "metadata": {},
   "outputs": [],
   "source": []
  }
 ],
 "metadata": {
  "kernelspec": {
   "display_name": "Python 3",
   "language": "python",
   "name": "python3"
  },
  "language_info": {
   "codemirror_mode": {
    "name": "ipython",
    "version": 3
   },
   "file_extension": ".py",
   "mimetype": "text/x-python",
   "name": "python",
   "nbconvert_exporter": "python",
   "pygments_lexer": "ipython3",
   "version": "3.7.6"
  }
 },
 "nbformat": 4,
 "nbformat_minor": 4
}
